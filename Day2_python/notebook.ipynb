{
 "cells": [
  {
   "cell_type": "markdown",
   "id": "91011931",
   "metadata": {},
   "source": [
    "# How to?"
   ]
  },
  {
   "cell_type": "code",
   "execution_count": null,
   "id": "8eeb5282",
   "metadata": {},
   "outputs": [],
   "source": [
    "import numpy as np\n",
    "\n",
    "size = 10\n",
    "x1, x2 = np.random.rand(2, size)\n",
    "x1 + x2"
   ]
  },
  {
   "cell_type": "code",
   "execution_count": null,
   "id": "470112b8",
   "metadata": {},
   "outputs": [],
   "source": [
    "import cupy as cp\n",
    "\n",
    "size = 10\n",
    "x1, x2 = cp.random.rand(2, size)\n",
    "x1 + x2"
   ]
  },
  {
   "cell_type": "code",
   "execution_count": null,
   "id": "44f54e5b",
   "metadata": {},
   "outputs": [],
   "source": [
    "use_gpu = True\n",
    "\n",
    "if use_gpu:\n",
    "    import cupy as xp\n",
    "else:\n",
    "    import numpy as xp"
   ]
  },
  {
   "cell_type": "code",
   "execution_count": null,
   "id": "619c4e5e",
   "metadata": {},
   "outputs": [],
   "source": []
  },
  {
   "cell_type": "code",
   "execution_count": null,
   "id": "958c6a68-4630-4c5e-9012-043874d0d1b8",
   "metadata": {},
   "outputs": [],
   "source": []
  },
  {
   "cell_type": "code",
   "execution_count": null,
   "id": "cf7453a5-d239-4d1a-a450-4219c7c7a916",
   "metadata": {},
   "outputs": [],
   "source": []
  },
  {
   "cell_type": "code",
   "execution_count": null,
   "id": "b8618f74-fb63-4a91-958e-f6ad2d190f22",
   "metadata": {},
   "outputs": [],
   "source": []
  },
  {
   "cell_type": "code",
   "execution_count": null,
   "id": "dc76273c-654d-486b-8037-e5421edccf44",
   "metadata": {},
   "outputs": [],
   "source": []
  },
  {
   "cell_type": "code",
   "execution_count": null,
   "id": "b7b9cf94-03ef-4cbf-a4d3-9e371d31f804",
   "metadata": {},
   "outputs": [],
   "source": []
  },
  {
   "cell_type": "markdown",
   "id": "961a80e5",
   "metadata": {},
   "source": [
    "# First look at performance"
   ]
  },
  {
   "cell_type": "code",
   "execution_count": null,
   "id": "6903944c",
   "metadata": {},
   "outputs": [],
   "source": [
    "from timeit import timeit\n",
    "from pandas import DataFrame, Series\n",
    "\n",
    "iters = 100\n",
    "times = DataFrame(index=Series([2**i for i in range(24)], name=\"Size\"))\n",
    "\n",
    "for size in times.index:\n",
    "    x1, x2 = np.random.rand(2, size)\n",
    "    times.at[size, \"Numpy\"] = timeit(lambda: x1 + x2, number=iters) / iters\n",
    "\n",
    "    x1, x2 = cp.random.rand(2, size)\n",
    "    times.at[size, \"Cupy\"] = timeit(lambda: x1 + x2, number=iters) / iters\n",
    "\n",
    "times.plot(logx=True, logy=True, ylabel=\"Time [s]\", figsize=(8, 5))"
   ]
  },
  {
   "cell_type": "code",
   "execution_count": null,
   "id": "c1633a3c",
   "metadata": {},
   "outputs": [],
   "source": []
  },
  {
   "cell_type": "code",
   "execution_count": null,
   "id": "8a37d14a-2a8b-4665-8eea-8c458a5138e4",
   "metadata": {},
   "outputs": [],
   "source": []
  },
  {
   "cell_type": "code",
   "execution_count": null,
   "id": "7c6f1ad8-ee02-4fb8-88f7-d850b715fddc",
   "metadata": {},
   "outputs": [],
   "source": []
  },
  {
   "cell_type": "code",
   "execution_count": null,
   "id": "6fea9716-c0e3-4331-aa17-d9e4a10a00d7",
   "metadata": {},
   "outputs": [],
   "source": []
  },
  {
   "cell_type": "code",
   "execution_count": null,
   "id": "ef1b4e19-8f5b-46ec-b830-f9fa0f7eecaf",
   "metadata": {},
   "outputs": [],
   "source": []
  },
  {
   "cell_type": "code",
   "execution_count": null,
   "id": "fab45833-d402-45c1-9e4e-35ce20f3603d",
   "metadata": {},
   "outputs": [],
   "source": []
  },
  {
   "cell_type": "code",
   "execution_count": null,
   "id": "c37794d5-168b-4d44-bf82-d6e479853e0d",
   "metadata": {},
   "outputs": [],
   "source": []
  },
  {
   "cell_type": "markdown",
   "id": "618513fd",
   "metadata": {},
   "source": [
    "# A deeper look into performance\n",
    "\n",
    "*Note:* skip next cell (too advanced)"
   ]
  },
  {
   "cell_type": "code",
   "execution_count": null,
   "id": "bc16b0e3",
   "metadata": {},
   "outputs": [],
   "source": [
    "# Some complex functions to display results\n",
    "\n",
    "from IPython.core.display import display, HTML\n",
    "import matplotlib as mpl\n",
    "import base64\n",
    "from io import BytesIO\n",
    "\n",
    "\n",
    "def show(data, ylabel, filename, hline=None, show=True):\n",
    "    \"A way-too-complicated function for displaying results\"\n",
    "\n",
    "    backend_ = mpl.get_backend()\n",
    "    mpl.use(\"Agg\")  # Prevent showing plot\n",
    "\n",
    "    ax = data.plot(logx=True, logy=True, ylabel=ylabel, figsize=(8, 5))\n",
    "    if hline:\n",
    "        ax.axhline(hline, ls=\"--\", color=\"black\")\n",
    "\n",
    "    fig = filename + \".pdf\"\n",
    "    ax.figure.savefig(fig, bbox_inches=\"tight\")  # Save figure\n",
    "\n",
    "    csv = filename + \".txt\"\n",
    "    data.to_csv(csv)  # Save data to csv format\n",
    "\n",
    "    if show:\n",
    "        tmpfile = BytesIO()\n",
    "        ax.figure.savefig(tmpfile, format=\"png\", bbox_inches=\"tight\")\n",
    "        encoded = base64.b64encode(tmpfile.getvalue()).decode(\"utf-8\")\n",
    "        display(\n",
    "            HTML(\n",
    "                f\"<h2>{ylabel}</h2><img src='data:image/png;base64,{encoded}'>\"\n",
    "                + data.transpose().to_html()\n",
    "            )\n",
    "        )\n",
    "\n",
    "    mpl.use(backend_)  # Restore showing plot\n",
    "\n",
    "\n",
    "def show_times(times, basename=\"\", bandwidth=900, datasize=3 * 8):\n",
    "    \"\"\"\n",
    "    This function displays some derived quantities from the provided timings.\n",
    "\n",
    "    Namely:\n",
    "    - the times themselves\n",
    "    - the speedup compared to the first entry\n",
    "    - the performance measured in GFLOP/s\n",
    "    - the bandwidth measured in GB/s\n",
    "    \"\"\"\n",
    "\n",
    "    # Timings\n",
    "    show(times, \"Time [s]\", basename + \"time\")\n",
    "\n",
    "    # Speedup\n",
    "    key = next(iter(times))\n",
    "    speedup = times.apply(lambda x: times[key] / x)\n",
    "    show(speedup, f\"Speed-up vs {key}\", basename + \"speedup\")\n",
    "\n",
    "    # Perfomance\n",
    "    perf = times.apply(lambda x: np.array(times.index) / x / 1e9)\n",
    "    show(perf, \"Performance [GFLOP/s]\", basename + \"perf\")\n",
    "\n",
    "    # Bandwidth\n",
    "    band = times.apply(lambda x: np.array(times.index) * datasize / x / 1e9)\n",
    "    show(band, \"Bandwidth [GB/s]\", basename + \"band\", hline=bandwidth)"
   ]
  },
  {
   "cell_type": "code",
   "execution_count": null,
   "id": "1af9aa71",
   "metadata": {
    "scrolled": false
   },
   "outputs": [],
   "source": [
    "show_times(times)"
   ]
  },
  {
   "cell_type": "code",
   "execution_count": null,
   "id": "26a3d97b",
   "metadata": {},
   "outputs": [],
   "source": []
  },
  {
   "cell_type": "code",
   "execution_count": null,
   "id": "6ce82641-1176-455c-bc81-bcb74bc93ec5",
   "metadata": {},
   "outputs": [],
   "source": []
  },
  {
   "cell_type": "code",
   "execution_count": null,
   "id": "8fb2ca26-86ff-42f2-bc92-88312a820327",
   "metadata": {},
   "outputs": [],
   "source": []
  },
  {
   "cell_type": "code",
   "execution_count": null,
   "id": "6fca1ad9-f364-42b2-b96d-f5dba4ce2e2e",
   "metadata": {},
   "outputs": [],
   "source": []
  },
  {
   "cell_type": "code",
   "execution_count": null,
   "id": "c05fcecb-ba5d-4fa9-b4c8-9740f21b001f",
   "metadata": {},
   "outputs": [],
   "source": []
  },
  {
   "cell_type": "code",
   "execution_count": null,
   "id": "18da2bfb-4fe6-4864-87ac-6fb4a47547d9",
   "metadata": {},
   "outputs": [],
   "source": []
  },
  {
   "cell_type": "code",
   "execution_count": null,
   "id": "b9c7b6a7-0818-4f97-b565-9db9be84f570",
   "metadata": {},
   "outputs": [],
   "source": []
  },
  {
   "cell_type": "markdown",
   "id": "667d997f",
   "metadata": {},
   "source": [
    "# Are the results correct??"
   ]
  },
  {
   "cell_type": "code",
   "execution_count": null,
   "id": "dd3b302a",
   "metadata": {},
   "outputs": [],
   "source": []
  },
  {
   "cell_type": "code",
   "execution_count": null,
   "id": "5051c59d-fd5c-4a15-a851-3fcd84f7490a",
   "metadata": {},
   "outputs": [],
   "source": []
  },
  {
   "cell_type": "code",
   "execution_count": null,
   "id": "c88d62c4-5fbd-4b44-9eb3-df01e7ba616c",
   "metadata": {},
   "outputs": [],
   "source": []
  },
  {
   "cell_type": "code",
   "execution_count": null,
   "id": "daf3a331-ffa3-4c6a-883f-20fd92a40687",
   "metadata": {},
   "outputs": [],
   "source": []
  },
  {
   "cell_type": "code",
   "execution_count": null,
   "id": "6e811276-f9c7-4746-80aa-0b0b579357d4",
   "metadata": {},
   "outputs": [],
   "source": []
  },
  {
   "cell_type": "code",
   "execution_count": null,
   "id": "f38f0e96-0a3e-4133-8d9f-79bc307d8daf",
   "metadata": {},
   "outputs": [],
   "source": []
  },
  {
   "cell_type": "code",
   "execution_count": null,
   "id": "a0a1fe89-c6c3-43f2-9e68-432bebc1cd4a",
   "metadata": {},
   "outputs": [],
   "source": []
  },
  {
   "cell_type": "code",
   "execution_count": null,
   "id": "754dfdae-18f1-464b-a5a8-df3b76bb2200",
   "metadata": {},
   "outputs": [],
   "source": []
  },
  {
   "cell_type": "code",
   "execution_count": null,
   "id": "73bf2cde-9a3c-4b5a-86ed-3e605af34b65",
   "metadata": {},
   "outputs": [],
   "source": []
  },
  {
   "cell_type": "markdown",
   "id": "75e10722",
   "metadata": {},
   "source": [
    "# NO!!\n",
    "\n",
    "because GPU timings are not measured and kernels are run asynchronously\n",
    "\n",
    "# Solution?\n",
    "\n",
    "We will use benchmark tool from cupy that synchronizes before timing"
   ]
  },
  {
   "cell_type": "code",
   "execution_count": null,
   "id": "8b085600",
   "metadata": {},
   "outputs": [],
   "source": [
    "from cupyx.profiler import benchmark\n",
    "\n",
    "iters = 100\n",
    "times = DataFrame(index=Series([2**i for i in range(25)], name=\"Size\"))\n",
    "\n",
    "\n",
    "def timeit_gpu(fnc, number=100):\n",
    "    bench = benchmark(fnc, n_repeat=iters)\n",
    "    cpu = bench.cpu_times.sum()\n",
    "    gpu = bench.gpu_times.sum()\n",
    "    return gpu  # + cpu\n",
    "\n",
    "\n",
    "for size in times.index:\n",
    "    x1, x2 = np.random.rand(2, size)\n",
    "    times.at[size, \"Numpy\"] = timeit(lambda: x1 + x2, number=iters) / iters\n",
    "\n",
    "    x1, x2 = cp.random.rand(2, size)\n",
    "    times.at[size, \"Cupy\"] = timeit_gpu(lambda: x1 + x2, number=iters) / iters\n",
    "\n",
    "show_times(times)"
   ]
  },
  {
   "cell_type": "code",
   "execution_count": null,
   "id": "c6da03c7",
   "metadata": {},
   "outputs": [],
   "source": []
  },
  {
   "cell_type": "code",
   "execution_count": null,
   "id": "f7dd13a1-80ff-4f90-bab1-5741c55c5422",
   "metadata": {},
   "outputs": [],
   "source": []
  },
  {
   "cell_type": "code",
   "execution_count": null,
   "id": "a161313e-bff7-424a-b00c-c06ff91e0e5d",
   "metadata": {},
   "outputs": [],
   "source": []
  },
  {
   "cell_type": "code",
   "execution_count": null,
   "id": "2f14828d-e143-4317-9f34-261312b255bb",
   "metadata": {},
   "outputs": [],
   "source": []
  },
  {
   "cell_type": "code",
   "execution_count": null,
   "id": "ccb6010f-aec1-444d-b2dd-dbcded52c17c",
   "metadata": {},
   "outputs": [],
   "source": []
  },
  {
   "cell_type": "code",
   "execution_count": null,
   "id": "d298585f-102a-4686-8fd1-62c61abaea3c",
   "metadata": {},
   "outputs": [],
   "source": []
  },
  {
   "cell_type": "code",
   "execution_count": null,
   "id": "041378bb-ee29-47d0-b68f-55b7eacccddc",
   "metadata": {},
   "outputs": [],
   "source": []
  },
  {
   "cell_type": "code",
   "execution_count": null,
   "id": "aaf830a2-7dbe-4a55-b209-35a63c19fd1e",
   "metadata": {},
   "outputs": [],
   "source": []
  },
  {
   "cell_type": "markdown",
   "id": "e4646f54",
   "metadata": {},
   "source": [
    "# Time for the first exercise\n",
    "\n",
    "Look at exercise_1..."
   ]
  },
  {
   "cell_type": "code",
   "execution_count": null,
   "id": "18316053",
   "metadata": {},
   "outputs": [],
   "source": []
  },
  {
   "cell_type": "code",
   "execution_count": null,
   "id": "e3aa23cb-7d5a-4a56-baf2-2ae7a9502da7",
   "metadata": {},
   "outputs": [],
   "source": []
  },
  {
   "cell_type": "code",
   "execution_count": null,
   "id": "75becaaf-1972-44b9-a72c-060f5fae23e4",
   "metadata": {},
   "outputs": [],
   "source": []
  },
  {
   "cell_type": "code",
   "execution_count": null,
   "id": "7a99d00d-6d9a-4e93-ba70-b93a6592f103",
   "metadata": {},
   "outputs": [],
   "source": []
  },
  {
   "cell_type": "code",
   "execution_count": null,
   "id": "485237d4-6692-4ad6-adc9-bf59408198ed",
   "metadata": {},
   "outputs": [],
   "source": []
  },
  {
   "cell_type": "code",
   "execution_count": null,
   "id": "c7267fd5-3fdc-4a2a-8eec-8abef0bcb62a",
   "metadata": {},
   "outputs": [],
   "source": []
  },
  {
   "cell_type": "code",
   "execution_count": null,
   "id": "cc6ef19f-f2fd-43c3-a1fe-a9d0a044a97d",
   "metadata": {},
   "outputs": [],
   "source": []
  },
  {
   "cell_type": "markdown",
   "id": "de36cba0",
   "metadata": {},
   "source": [
    "# Let's speed-up the kernel\n",
    "\n",
    "Cupy has three kind of user-defined kernels\n",
    "\n",
    "For more information see: https://docs.cupy.dev/en/stable/user_guide/kernel.html\n",
    "\n",
    "## Element-wise kernel"
   ]
  },
  {
   "cell_type": "code",
   "execution_count": null,
   "id": "9acfdc15",
   "metadata": {},
   "outputs": [],
   "source": [
    "squared_diff = cp.ElementwiseKernel(\n",
    "    \"T x, T y\",  # input params\n",
    "    \"T z\",  # output params\n",
    "    \"\"\"\n",
    "   T diff = x-y;\n",
    "   z = diff*diff;\n",
    "   \"\"\",  # element-wise kernel\n",
    "    \"squared_diff\",  # kernel name\n",
    ")\n",
    "\n",
    "x, y = cp.random.rand(2, 10)\n",
    "z = squared_diff(x, y)\n",
    "z"
   ]
  },
  {
   "cell_type": "markdown",
   "id": "07be6202",
   "metadata": {},
   "source": [
    "## Reduction kernel"
   ]
  },
  {
   "cell_type": "code",
   "execution_count": null,
   "id": "2e34d095",
   "metadata": {},
   "outputs": [],
   "source": [
    "l2norm = cp.ReductionKernel(\n",
    "    \"T x\",  # input params\n",
    "    \"T y\",  # output params\n",
    "    \"x * x\",  # element-wise\n",
    "    \"a + b\",  # reduce: fnc(a,b)\n",
    "    \"y = sqrt(a)\",  # post-reduction fnc(a)\n",
    "    \"0\",  # starting value\n",
    "    \"l2norm\",  # kernel name\n",
    ")\n",
    "\n",
    "x = cp.random.rand(2, 10)\n",
    "y = l2norm(x, axis=1)\n",
    "y"
   ]
  },
  {
   "cell_type": "markdown",
   "id": "96f06c5a",
   "metadata": {},
   "source": [
    "## Raw, C-style kernel"
   ]
  },
  {
   "cell_type": "code",
   "execution_count": null,
   "id": "0ae249d2",
   "metadata": {},
   "outputs": [],
   "source": [
    "add_kernel = cp.RawKernel(\n",
    "    \"\"\"\n",
    "        extern \"C\" __global__\n",
    "        void raw_add(const float* x1, const float* x2, float* y) {\n",
    "            int tid = blockDim.x * blockIdx.x + threadIdx.x;\n",
    "            y[tid] = x1[tid] + x2[tid];\n",
    "        }\n",
    "    \"\"\",  # c-style kernel\n",
    "    \"raw_add\",  # kernel name\n",
    ")\n",
    "\n",
    "x1, x2 = cp.random.rand(2, 5, 5)\n",
    "y = cp.zeros((5, 5), dtype=cp.float32)\n",
    "add_kernel((5,), (5,), (x1, x2, y))  # grid, block and arguments\n",
    "y"
   ]
  },
  {
   "cell_type": "code",
   "execution_count": null,
   "id": "df2696ee",
   "metadata": {},
   "outputs": [],
   "source": []
  },
  {
   "cell_type": "code",
   "execution_count": null,
   "id": "e2ac7581-6cba-43ad-bbf4-edea013cdd95",
   "metadata": {},
   "outputs": [],
   "source": []
  },
  {
   "cell_type": "code",
   "execution_count": null,
   "id": "9efc58cc-0d33-4936-bceb-b75d814dac10",
   "metadata": {},
   "outputs": [],
   "source": []
  },
  {
   "cell_type": "code",
   "execution_count": null,
   "id": "7e0752ef-ab91-4a37-8fa1-cfdc5c23b582",
   "metadata": {},
   "outputs": [],
   "source": []
  },
  {
   "cell_type": "code",
   "execution_count": null,
   "id": "6ed5d1ca-076e-4041-b0ea-af4d8958517d",
   "metadata": {},
   "outputs": [],
   "source": []
  },
  {
   "cell_type": "code",
   "execution_count": null,
   "id": "42906685-0dc2-4b4d-8594-eeccf36379c9",
   "metadata": {},
   "outputs": [],
   "source": []
  },
  {
   "cell_type": "code",
   "execution_count": null,
   "id": "6d1dfd1f-4b89-4fce-83cd-1a027acb9a61",
   "metadata": {},
   "outputs": [],
   "source": []
  },
  {
   "cell_type": "markdown",
   "id": "49bfbb9f",
   "metadata": {},
   "source": [
    "# And now let's measure the gain in perfomance!"
   ]
  },
  {
   "cell_type": "code",
   "execution_count": null,
   "id": "546cb88e",
   "metadata": {},
   "outputs": [],
   "source": [
    "iters = 100\n",
    "times = DataFrame(index=Series([2**i for i in range(25)], name=\"Size\"))\n",
    "\n",
    "fnc = lambda: (x1 - x2) * (x1 - x2)\n",
    "fnc2 = lambda: squared_diff(x1, x2)\n",
    "\n",
    "for size in times.index:\n",
    "    x1, x2 = np.random.rand(2, size)\n",
    "    times.at[size, \"Numpy\"] = timeit(fnc, number=iters) / iters\n",
    "\n",
    "    x1, x2 = cp.random.rand(2, size)\n",
    "    times.at[size, \"Cupy, inline\"] = timeit_gpu(fnc, number=iters) / iters\n",
    "    times.at[size, \"Cupy, kernel\"] = timeit_gpu(fnc2, number=iters) / iters\n",
    "\n",
    "show_times(times)"
   ]
  },
  {
   "cell_type": "code",
   "execution_count": null,
   "id": "6a54e5ef",
   "metadata": {},
   "outputs": [],
   "source": []
  },
  {
   "cell_type": "code",
   "execution_count": null,
   "id": "9331d851-efaf-4e02-8f8b-4e3860a6f13f",
   "metadata": {},
   "outputs": [],
   "source": []
  },
  {
   "cell_type": "code",
   "execution_count": null,
   "id": "5b1b9a04-eb4c-4cec-bdc8-f5984b8ce432",
   "metadata": {},
   "outputs": [],
   "source": []
  },
  {
   "cell_type": "code",
   "execution_count": null,
   "id": "5f7b4893-c60b-429e-a26c-f7e2f8c5ad5b",
   "metadata": {},
   "outputs": [],
   "source": []
  },
  {
   "cell_type": "code",
   "execution_count": null,
   "id": "b3a48e16-0ae1-44f4-9776-4ccaeb7ce7cb",
   "metadata": {},
   "outputs": [],
   "source": []
  },
  {
   "cell_type": "code",
   "execution_count": null,
   "id": "8326fff7-12c6-421c-a5c3-52f498382065",
   "metadata": {},
   "outputs": [],
   "source": []
  },
  {
   "cell_type": "code",
   "execution_count": null,
   "id": "6204b970-712d-47b9-8a4d-f713e6553c6e",
   "metadata": {},
   "outputs": [],
   "source": []
  },
  {
   "cell_type": "markdown",
   "id": "077b251b",
   "metadata": {},
   "source": [
    "# Time for the second exercise\n",
    "\n",
    "Look at exercise_2..."
   ]
  },
  {
   "cell_type": "code",
   "execution_count": null,
   "id": "7274c9b7",
   "metadata": {},
   "outputs": [],
   "source": []
  },
  {
   "cell_type": "code",
   "execution_count": null,
   "id": "a19e6efa-6893-49c9-8a43-02dc3903cc52",
   "metadata": {},
   "outputs": [],
   "source": []
  },
  {
   "cell_type": "code",
   "execution_count": null,
   "id": "e3c8a5bc-d282-4441-ac91-f1a2227ed707",
   "metadata": {},
   "outputs": [],
   "source": []
  },
  {
   "cell_type": "code",
   "execution_count": null,
   "id": "e4599218-cdfb-4d86-bb2b-f14bb3a676ab",
   "metadata": {},
   "outputs": [],
   "source": []
  },
  {
   "cell_type": "code",
   "execution_count": null,
   "id": "7c59fcb1-d90a-4925-bb89-dd44b5325042",
   "metadata": {},
   "outputs": [],
   "source": []
  },
  {
   "cell_type": "code",
   "execution_count": null,
   "id": "a9c53fe6-40a6-41a9-aee1-a310ef154e13",
   "metadata": {},
   "outputs": [],
   "source": []
  },
  {
   "cell_type": "code",
   "execution_count": null,
   "id": "6af3dbe1-e2a5-40be-875b-767cd00fe36e",
   "metadata": {},
   "outputs": [],
   "source": []
  },
  {
   "cell_type": "code",
   "execution_count": null,
   "id": "296220d0-81e6-41c8-8a1d-193f6ef25f57",
   "metadata": {},
   "outputs": [],
   "source": []
  },
  {
   "cell_type": "markdown",
   "id": "22f991ea",
   "metadata": {},
   "source": [
    "# Rotation of coordinates (example from yesterday)\n",
    "\n",
    "$$ x' = cos(\\theta) x - sin(\\theta) y + s_x $$\n",
    "$$ y' = sin(\\theta) x + cos(\\theta) y + s_y $$"
   ]
  },
  {
   "cell_type": "code",
   "execution_count": null,
   "id": "28890ea4",
   "metadata": {},
   "outputs": [],
   "source": [
    "def rot_shift(x, y, sx, sy, theta):\n",
    "    xp = cp.get_array_module(x)\n",
    "    cos = xp.cos(theta)\n",
    "    sin = xp.sin(theta)\n",
    "    x2 = cos * x - sin * y + sx\n",
    "    y2 = sin * x + cos * y + sy\n",
    "    return x2, y2"
   ]
  },
  {
   "cell_type": "code",
   "execution_count": null,
   "id": "fab9d6c5",
   "metadata": {},
   "outputs": [],
   "source": [
    "iters = 1\n",
    "times = DataFrame(index=Series([2**i for i in range(25)], name=\"Size\"))\n",
    "\n",
    "fnc = lambda: rot_shift(x, y, sx, sy, theta)\n",
    "\n",
    "for size in times.index:\n",
    "    x, y, sx, sy, theta = np.random.rand(5, size)\n",
    "    times.at[size, \"Numpy\"] = timeit(fnc, number=iters) / iters\n",
    "\n",
    "    x, y, sx, sy, theta = cp.random.rand(5, size)\n",
    "    times.at[size, \"Cupy\"] = timeit_gpu(fnc, number=iters) / iters\n",
    "\n",
    "show_times(times, datasize=7 * 8)"
   ]
  },
  {
   "cell_type": "code",
   "execution_count": null,
   "id": "579557ab",
   "metadata": {},
   "outputs": [],
   "source": []
  },
  {
   "cell_type": "code",
   "execution_count": null,
   "id": "6c3082a7-d43f-49b5-8f37-10e2d89df6d9",
   "metadata": {},
   "outputs": [],
   "source": []
  },
  {
   "cell_type": "code",
   "execution_count": null,
   "id": "acfdb5e9-56d3-4ffc-9e83-7676997b9bb1",
   "metadata": {},
   "outputs": [],
   "source": []
  },
  {
   "cell_type": "code",
   "execution_count": null,
   "id": "67f959ba-94d5-4179-b552-2a51017d8357",
   "metadata": {},
   "outputs": [],
   "source": []
  },
  {
   "cell_type": "code",
   "execution_count": null,
   "id": "ce90dd4f-2a31-451d-be0b-6cfe25436f9d",
   "metadata": {},
   "outputs": [],
   "source": []
  },
  {
   "cell_type": "code",
   "execution_count": null,
   "id": "a5677ab1-0dd1-4138-9deb-b707a48ed666",
   "metadata": {},
   "outputs": [],
   "source": []
  },
  {
   "cell_type": "code",
   "execution_count": null,
   "id": "b91040b3-e597-46b6-85fb-589b6fae272d",
   "metadata": {},
   "outputs": [],
   "source": []
  },
  {
   "cell_type": "markdown",
   "id": "29d0e3c5",
   "metadata": {},
   "source": [
    "# Time for the third exercise\n",
    "\n",
    "Look at exercise_3..."
   ]
  },
  {
   "cell_type": "code",
   "execution_count": null,
   "id": "456d66f1",
   "metadata": {},
   "outputs": [],
   "source": []
  },
  {
   "cell_type": "code",
   "execution_count": null,
   "id": "33626f73-4b06-4abb-84bb-528939e7a744",
   "metadata": {},
   "outputs": [],
   "source": []
  },
  {
   "cell_type": "code",
   "execution_count": null,
   "id": "70ceff37-d9ad-42c8-89f0-91ac6945ccfa",
   "metadata": {},
   "outputs": [],
   "source": []
  },
  {
   "cell_type": "code",
   "execution_count": null,
   "id": "3f7f2a53-19cf-4483-a939-0fa01451f871",
   "metadata": {},
   "outputs": [],
   "source": []
  },
  {
   "cell_type": "code",
   "execution_count": null,
   "id": "b98c1887-b820-43a9-a0b4-b7744f086f61",
   "metadata": {},
   "outputs": [],
   "source": []
  },
  {
   "cell_type": "code",
   "execution_count": null,
   "id": "43bfc3bf-21ab-4b79-994e-09b57ffa950d",
   "metadata": {},
   "outputs": [],
   "source": []
  },
  {
   "cell_type": "code",
   "execution_count": null,
   "id": "1c104dcb-d784-4a20-9f36-008509cb2183",
   "metadata": {},
   "outputs": [],
   "source": []
  },
  {
   "cell_type": "markdown",
   "id": "11c3a5cd",
   "metadata": {},
   "source": [
    "# Solution to the exercise"
   ]
  },
  {
   "cell_type": "code",
   "execution_count": null,
   "id": "cc5d8346",
   "metadata": {},
   "outputs": [],
   "source": [
    "def rot_shift(x, y, sx, sy, theta):\n",
    "    xp = cp.get_array_module(x)\n",
    "    cos = xp.cos(theta)\n",
    "    sin = xp.sin(theta)\n",
    "    x2 = cos * x - sin * y + sx\n",
    "    y2 = sin * x + cos * y + sy\n",
    "    return x2, y2\n",
    "\n",
    "\n",
    "rot_shift_k = cp.ElementwiseKernel(\n",
    "    \"T x, T y, T sx, T sy, T theta\",  # input params\n",
    "    \"T x2, T y2\",  # output params\n",
    "    \"\"\"\n",
    "    T cs = cos(theta);\n",
    "    T sn = sin(theta);\n",
    "    x2 = cs*x-sn*y+sx;\n",
    "    y2 = sn*x+cs*y+sy;\n",
    "   \"\"\",  # element-wise kernel\n",
    "    \"rot_shift_k\",  # kernel name\n",
    ")"
   ]
  },
  {
   "cell_type": "code",
   "execution_count": null,
   "id": "0848cbd1",
   "metadata": {},
   "outputs": [],
   "source": [
    "fnc = lambda: rot_shift_k(x, y, sx, sy, theta)\n",
    "\n",
    "for size in times.index:\n",
    "    x, y, sx, sy, theta = cp.random.rand(5, size)\n",
    "    times.at[size, \"Cupy, kernel\"] = timeit_gpu(fnc, number=iters) / iters\n",
    "\n",
    "show_times(times, datasize=7 * 8)"
   ]
  },
  {
   "cell_type": "code",
   "execution_count": null,
   "id": "84e90a17",
   "metadata": {},
   "outputs": [],
   "source": []
  },
  {
   "cell_type": "code",
   "execution_count": null,
   "id": "8e5e5dc5-8b5b-4ea5-948f-6c77be54f1e9",
   "metadata": {},
   "outputs": [],
   "source": []
  },
  {
   "cell_type": "code",
   "execution_count": null,
   "id": "0db5a2c0-cfb1-4b29-a599-7b2ee6cba088",
   "metadata": {},
   "outputs": [],
   "source": []
  },
  {
   "cell_type": "code",
   "execution_count": null,
   "id": "b58dd086-ff5a-44c2-8e06-37a3512d532e",
   "metadata": {},
   "outputs": [],
   "source": []
  },
  {
   "cell_type": "code",
   "execution_count": null,
   "id": "89eb3f6a-827d-48c8-8338-7118ba2c7ec5",
   "metadata": {},
   "outputs": [],
   "source": []
  },
  {
   "cell_type": "code",
   "execution_count": null,
   "id": "44a9df1a-a1ec-4ca7-97a1-74fe6fbce8e6",
   "metadata": {},
   "outputs": [],
   "source": []
  },
  {
   "cell_type": "code",
   "execution_count": null,
   "id": "23fbb6c2-eb38-4003-af42-e47cc83ca038",
   "metadata": {},
   "outputs": [],
   "source": []
  },
  {
   "cell_type": "markdown",
   "id": "4630edc7",
   "metadata": {},
   "source": [
    "# Numba"
   ]
  },
  {
   "cell_type": "code",
   "execution_count": null,
   "id": "a90ca05c",
   "metadata": {},
   "outputs": [],
   "source": [
    "from numba import jit\n",
    "\n",
    "\n",
    "def rot_shift_loop(coord, shift, theta):\n",
    "    out = np.empty_like(coord)\n",
    "    for i in range(coord.shape[0]):\n",
    "        cos = np.cos(theta[i])\n",
    "        sin = np.sin(theta[i])\n",
    "        out[i, 0] = cos * coord[i, 0] - sin * coord[i, 1] + shift[i, 0]\n",
    "        out[i, 1] = sin * coord[i, 0] + cos * coord[i, 1] + shift[i, 1]\n",
    "    return out\n",
    "\n",
    "\n",
    "rot_shift_numba = jit(rot_shift_loop)"
   ]
  },
  {
   "cell_type": "code",
   "execution_count": null,
   "id": "0692b5d2",
   "metadata": {},
   "outputs": [],
   "source": [
    "fnc = lambda: rot_shift_numba(coord, shift, theta)\n",
    "\n",
    "for size in times.index:\n",
    "    coord = np.random.rand(size, 2)\n",
    "    shift = np.random.rand(size, 2)\n",
    "    theta = np.random.rand(size)\n",
    "    times.at[size, \"Numba, cpu\"] = timeit(fnc, number=iters) / iters\n",
    "\n",
    "show_times(times, datasize=7 * 8)"
   ]
  },
  {
   "cell_type": "code",
   "execution_count": null,
   "id": "d88df1cd",
   "metadata": {},
   "outputs": [],
   "source": []
  },
  {
   "cell_type": "code",
   "execution_count": null,
   "id": "7a9db432-ad0a-41d3-9242-73d896d296d4",
   "metadata": {},
   "outputs": [],
   "source": []
  },
  {
   "cell_type": "code",
   "execution_count": null,
   "id": "f3db676e-6ca9-4f0e-8452-f5f3b2a186e2",
   "metadata": {},
   "outputs": [],
   "source": []
  },
  {
   "cell_type": "code",
   "execution_count": null,
   "id": "159c969b-65db-4911-bce5-b890619cde62",
   "metadata": {},
   "outputs": [],
   "source": []
  },
  {
   "cell_type": "code",
   "execution_count": null,
   "id": "03d0cb30-3422-40cb-9a3f-0be0c4636bf7",
   "metadata": {},
   "outputs": [],
   "source": []
  },
  {
   "cell_type": "code",
   "execution_count": null,
   "id": "f0120ba8-209d-445f-ac11-b365512fde15",
   "metadata": {},
   "outputs": [],
   "source": []
  },
  {
   "cell_type": "code",
   "execution_count": null,
   "id": "a50703ef-a3cb-4824-877f-2ad0fab62369",
   "metadata": {},
   "outputs": [],
   "source": []
  },
  {
   "cell_type": "code",
   "execution_count": null,
   "id": "62202b30",
   "metadata": {},
   "outputs": [],
   "source": [
    "from numba import cuda\n",
    "import math\n",
    "\n",
    "\n",
    "@cuda.jit\n",
    "def rot_shift_cuda(coord, shift, theta, out):\n",
    "    i = cuda.grid(1)\n",
    "    if i > len(theta):\n",
    "        return\n",
    "    cs = math.cos(theta[i])\n",
    "    sn = math.sin(theta[i])\n",
    "    out[i, 0] = cs * coord[i, 0] - sn * coord[i, 1] + shift[i, 0]\n",
    "    out[i, 1] = sn * coord[i, 0] + cs * coord[i, 1] + shift[i, 1]\n",
    "\n",
    "\n",
    "nthr = 256\n",
    "fnc = lambda: rot_shift_cuda[math.ceil(size / nthr), nthr](coord, shift, theta, out)\n",
    "\n",
    "for size in times.index:\n",
    "    coord = cp.random.rand(size, 2)\n",
    "    shift = cp.random.rand(size, 2)\n",
    "    theta = cp.random.rand(size)\n",
    "    out = cp.empty_like(coord)\n",
    "    fnc()\n",
    "    times.at[size, \"Numba, cuda\"] = timeit_gpu(fnc, number=iters) / iters\n",
    "\n",
    "show_times(times, datasize=7 * 8)"
   ]
  },
  {
   "cell_type": "code",
   "execution_count": null,
   "id": "9cb05eff",
   "metadata": {},
   "outputs": [],
   "source": []
  },
  {
   "cell_type": "code",
   "execution_count": null,
   "id": "a1d5b9ba",
   "metadata": {},
   "outputs": [],
   "source": []
  }
 ],
 "metadata": {
  "kernelspec": {
   "display_name": "Python 3",
   "language": "python",
   "name": "python3"
  },
  "language_info": {
   "codemirror_mode": {
    "name": "ipython",
    "version": 3
   },
   "file_extension": ".py",
   "mimetype": "text/x-python",
   "name": "python",
   "nbconvert_exporter": "python",
   "pygments_lexer": "ipython3",
   "version": "3.8.8"
  }
 },
 "nbformat": 4,
 "nbformat_minor": 5
}
